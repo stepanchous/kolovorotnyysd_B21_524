{
 "cells": [
  {
   "cell_type": "markdown",
   "metadata": {},
   "source": [
    "# Лабораторная работа No5.  Выделение признаков символов"
   ]
  },
  {
   "cell_type": "markdown",
   "metadata": {},
   "source": [
    "## 2. Рассчет признаков"
   ]
  },
  {
   "cell_type": "code",
   "execution_count": 214,
   "metadata": {},
   "outputs": [],
   "source": [
    "from PIL import Image as pim\n",
    "import pandas as pd\n",
    "import numpy as np\n",
    "import matplotlib.pyplot as plt"
   ]
  },
  {
   "cell_type": "code",
   "execution_count": 215,
   "metadata": {},
   "outputs": [],
   "source": [
    "def calc_black_weight(black_density):\n",
    "    black_weight = np.sum(black_density)\n",
    "\n",
    "    return black_weight, black_weight / black_density.size"
   ]
  },
  {
   "cell_type": "code",
   "execution_count": 216,
   "metadata": {},
   "outputs": [],
   "source": [
    "def calc_black_weights(black_density):\n",
    "    height, width = black_density.shape\n",
    "    height_mid = height // 2\n",
    "    width_mid = width // 2\n",
    "\n",
    "    black_weights = list()\n",
    "    norm_black_weights = list()\n",
    "\n",
    "\n",
    "    top_left = black_density[:height_mid, :width_mid]\n",
    "    top_right = black_density[:height_mid, width_mid:]\n",
    "    bottom_left = black_density[height_mid:, :width_mid]\n",
    "    bottom_right = black_density[height_mid:, width_mid:]\n",
    "\n",
    "    black_weight, norm_black_weight = calc_black_weight(top_left)\n",
    "    black_weights.append(black_weight)\n",
    "    norm_black_weights.append(norm_black_weight)\n",
    "\n",
    "    black_weight, norm_black_weight = calc_black_weight(top_right)\n",
    "    black_weights.append(black_weight)\n",
    "    norm_black_weights.append(norm_black_weight)\n",
    "\n",
    "    black_weight, norm_black_weight = calc_black_weight(bottom_left)\n",
    "    black_weights.append(black_weight)\n",
    "    norm_black_weights.append(norm_black_weight)\n",
    "\n",
    "    black_weight, norm_black_weight = calc_black_weight(bottom_right)\n",
    "    black_weights.append(black_weight)\n",
    "    norm_black_weights.append(norm_black_weight)\n",
    "\n",
    "\n",
    "    return np.array(black_weights), np.array(norm_black_weights)\n"
   ]
  },
  {
   "cell_type": "code",
   "execution_count": 217,
   "metadata": {},
   "outputs": [],
   "source": [
    "def calc_mass_center(black_density, black_weight):\n",
    "    height, width = black_density.shape\n",
    "\n",
    "    center_x = float(0)\n",
    "    center_y = float(0)\n",
    "\n",
    "    for x in range(height):\n",
    "        for y in range(width):\n",
    "            center_x += x * black_density[x][y]\n",
    "            center_y += y * black_density[x][y]\n",
    "\n",
    "    return center_x / black_weight, center_y / black_weight"
   ]
  },
  {
   "cell_type": "code",
   "execution_count": 218,
   "metadata": {},
   "outputs": [],
   "source": [
    "def calc_horizontal_vertical_inertia_moments(black_density, center):\n",
    "    height, width = black_density.shape\n",
    "    x_center, y_center = center\n",
    "\n",
    "    i_x = float(0)\n",
    "    i_y = float(0)\n",
    "\n",
    "    for x in range(height):\n",
    "        for y in range(width):\n",
    "            i_x += (y - y_center)**2 * black_density[x][y]\n",
    "            i_y += (x - x_center)**2 * black_density[x][y]\n",
    "\n",
    "    return i_x, i_y"
   ]
  },
  {
   "cell_type": "code",
   "execution_count": 219,
   "metadata": {},
   "outputs": [],
   "source": [
    "def calc_profiles(black_density):\n",
    "    height, width = black_density.shape\n",
    "\n",
    "    x_profile = np.zeros(height)\n",
    "    y_profile = np.zeros(width)\n",
    "\n",
    "    for x in range(height):\n",
    "        for y in range(width):\n",
    "            x_profile[x] += black_density[x][y]\n",
    "            y_profile[y] += black_density[x][y]\n",
    "    \n",
    "    return x_profile, y_profile"
   ]
  },
  {
   "cell_type": "code",
   "execution_count": 220,
   "metadata": {},
   "outputs": [
    {
     "data": {
      "image/jpeg": "[encoded data removed]",
      "image/png": "[encoded data removed]",
      "text/plain": [
       "<PIL.PngImagePlugin.PngImageFile image mode=L size=40x65>"
      ]
     },
     "execution_count": 220,
     "metadata": {},
     "output_type": "execute_result"
    }
   ],
   "source": [
    "image = pim.open(\"../1.22/font/ь.png\")\n",
    "image"
   ]
  },
  {
   "cell_type": "code",
   "execution_count": 221,
   "metadata": {},
   "outputs": [
    {
     "data": {
      "text/plain": [
       "(65, 40)"
      ]
     },
     "execution_count": 221,
     "metadata": {},
     "output_type": "execute_result"
    }
   ],
   "source": [
    "image_array = np.array(image, dtype=np.uint8)\n",
    "image_array.shape"
   ]
  },
  {
   "cell_type": "code",
   "execution_count": 222,
   "metadata": {},
   "outputs": [],
   "source": [
    "black_density = 1 - image_array / 255"
   ]
  },
  {
   "cell_type": "code",
   "execution_count": 223,
   "metadata": {},
   "outputs": [
    {
     "data": {
      "text/plain": [
       "(array([ 21.48235294,   0.        , 321.01176471, 266.43137255]),\n",
       " array([0.03356618, 0.        , 0.48638146, 0.4036839 ]))"
      ]
     },
     "execution_count": 223,
     "metadata": {},
     "output_type": "execute_result"
    }
   ],
   "source": [
    "quoter_black_weight, quoter_norm_black_weight = calc_black_weights(black_density)\n",
    "quoter_black_weight, quoter_norm_black_weight"
   ]
  },
  {
   "cell_type": "code",
   "execution_count": 224,
   "metadata": {},
   "outputs": [
    {
     "data": {
      "text/plain": [
       "(608.9254901960784, 0.2342021116138763)"
      ]
     },
     "execution_count": 224,
     "metadata": {},
     "output_type": "execute_result"
    }
   ],
   "source": [
    "black_weight, norm_black_weight = calc_black_weight(black_density)\n",
    "black_weight, norm_black_weight"
   ]
  },
  {
   "cell_type": "code",
   "execution_count": 225,
   "metadata": {},
   "outputs": [
    {
     "data": {
      "text/plain": [
       "(49.811387464901195, 18.678591669028055)"
      ]
     },
     "execution_count": 225,
     "metadata": {},
     "output_type": "execute_result"
    }
   ],
   "source": [
    "mass_center = calc_mass_center(black_density, black_weight)\n",
    "mass_center"
   ]
  },
  {
   "cell_type": "code",
   "execution_count": 226,
   "metadata": {},
   "outputs": [
    {
     "data": {
      "text/plain": [
       "(0.7663290379215568, 0.4789382479237963)"
      ]
     },
     "execution_count": 226,
     "metadata": {},
     "output_type": "execute_result"
    }
   ],
   "source": [
    "norm_mass_center = (mass_center[0] / (height - 1), mass_center[1] / (width - 1))\n",
    "norm_mass_center"
   ]
  },
  {
   "cell_type": "code",
   "execution_count": 227,
   "metadata": {},
   "outputs": [
    {
     "data": {
      "text/plain": [
       "(55091.95480167136, 54613.86315562588)"
      ]
     },
     "execution_count": 227,
     "metadata": {},
     "output_type": "execute_result"
    }
   ],
   "source": [
    "inertia_moments = calc_horizontal_vertical_inertia_moments(black_density, mass_center)\n",
    "inertia_moments"
   ]
  },
  {
   "cell_type": "code",
   "execution_count": 228,
   "metadata": {},
   "outputs": [
    {
     "data": {
      "text/plain": [
       "(0.007904607840001056, 0.007836011127701142)"
      ]
     },
     "execution_count": 228,
     "metadata": {},
     "output_type": "execute_result"
    }
   ],
   "source": [
    "norm_inertia_moments = (\n",
    "    inertia_moments[0] / (height**2 * width**2),\n",
    "    inertia_moments[1] / (height**2 * width**2)\n",
    ")\n",
    "norm_inertia_moments"
   ]
  },
  {
   "cell_type": "code",
   "execution_count": 229,
   "metadata": {},
   "outputs": [
    {
     "data": {
      "text/plain": [
       "(66,)"
      ]
     },
     "execution_count": 229,
     "metadata": {},
     "output_type": "execute_result"
    }
   ],
   "source": [
    "x_profile.shape"
   ]
  },
  {
   "cell_type": "code",
   "execution_count": 230,
   "metadata": {},
   "outputs": [
    {
     "data": {
      "text/plain": [
       "[]"
      ]
     },
     "execution_count": 230,
     "metadata": {},
     "output_type": "execute_result"
    },
    {
     "data": {
      "image/png": "[encoded data removed]",
      "text/plain": [
       "<Figure size 640x480 with 1 Axes>"
      ]
     },
     "metadata": {},
     "output_type": "display_data"
    }
   ],
   "source": [
    "x_profile, y_profile = calc_profiles(black_density)\n",
    "\n",
    "plt.barh(range(0, x_profile.size), list(reversed(x_profile)))\n",
    "\n",
    "plt.plot()"
   ]
  },
  {
   "cell_type": "code",
   "execution_count": 235,
   "metadata": {},
   "outputs": [
    {
     "data": {
      "image/png": "[encoded data removed]",
      "text/plain": [
       "<Figure size 640x480 with 1 Axes>"
      ]
     },
     "metadata": {},
     "output_type": "display_data"
    }
   ],
   "source": [
    "plt.bar(range(y_profile.size), y_profile)\n",
    "plt.show()"
   ]
  },
  {
   "cell_type": "code",
   "execution_count": null,
   "metadata": {},
   "outputs": [
    {
     "data": {
      "image/jpeg": "[encoded data removed]",
      "image/png": "[encoded data removed]",
      "text/plain": [
       "<PIL.PngImagePlugin.PngImageFile image mode=L size=40x66>"
      ]
     },
     "execution_count": 173,
     "metadata": {},
     "output_type": "execute_result"
    }
   ],
   "source": [
    "image"
   ]
  },
  {
   "cell_type": "code",
   "execution_count": null,
   "metadata": {},
   "outputs": [
    {
     "data": {
      "text/html": [
       "<div>\n",
       "<style scoped>\n",
       "    .dataframe tbody tr th:only-of-type {\n",
       "        vertical-align: middle;\n",
       "    }\n",
       "\n",
       "    .dataframe tbody tr th {\n",
       "        vertical-align: top;\n",
       "    }\n",
       "\n",
       "    .dataframe thead th {\n",
       "        text-align: right;\n",
       "    }\n",
       "</style>\n",
       "<table border=\"1\" class=\"dataframe\">\n",
       "  <thead>\n",
       "    <tr style=\"text-align: right;\">\n",
       "      <th></th>\n",
       "    </tr>\n",
       "  </thead>\n",
       "  <tbody>\n",
       "    <tr>\n",
       "      <th>a</th>\n",
       "    </tr>\n",
       "    <tr>\n",
       "      <th>b</th>\n",
       "    </tr>\n",
       "  </tbody>\n",
       "</table>\n",
       "</div>"
      ],
      "text/plain": [
       "Empty DataFrame\n",
       "Columns: []\n",
       "Index: [a, b]"
      ]
     },
     "execution_count": 175,
     "metadata": {},
     "output_type": "execute_result"
    }
   ],
   "source": [
    "pd.DataFrame(index=[\"a\", \"b\"])"
   ]
  }
 ],
 "metadata": {
  "kernelspec": {
   "display_name": "Python 3",
   "language": "python",
   "name": "python3"
  },
  "language_info": {
   "codemirror_mode": {
    "name": "ipython",
    "version": 3
   },
   "file_extension": ".py",
   "mimetype": "text/x-python",
   "name": "python",
   "nbconvert_exporter": "python",
   "pygments_lexer": "ipython3",
   "version": "3.12.3"
  }
 },
 "nbformat": 4,
 "nbformat_minor": 2
}

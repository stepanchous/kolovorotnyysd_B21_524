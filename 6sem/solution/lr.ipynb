{
 "cells": [
  {
   "cell_type": "code",
   "execution_count": 32,
   "metadata": {},
   "outputs": [],
   "source": [
    "from PIL import Image, ImageFont, ImageDraw\n",
    "from functools import reduce\n",
    "import numpy as np\n",
    "from matplotlib import pyplot as plt"
   ]
  },
  {
   "cell_type": "code",
   "execution_count": 33,
   "metadata": {},
   "outputs": [],
   "source": [
    "font_size = 69\n",
    "\n",
    "phrase = \"если жена мешает преферансу бросай жену\"\n",
    "font = ImageFont.truetype(\"font/CaskaydiaMonoNerdFont-Regular.ttf\", font_size)\n",
    "\n",
    "width = reduce(\n",
    "    lambda acc, curr: acc + curr,\n",
    "    map(lambda symbol: font.getbbox(symbol)[2], phrase),\n",
    "    0)\n",
    "\n",
    "height = max(map(lambda symbol: font.getbbox(symbol)[3], phrase))\n",
    "\n",
    "width_padding = 60\n",
    "height_padding = 20\n",
    "\n",
    "image = Image.new(\"L\", (width + width_padding, height + height_padding), color=\"white\")\n",
    "draw = ImageDraw.Draw(image)\n",
    "draw.text((width_padding // 2, height_padding // 2), phrase, font=font, color=\"black\")\n",
    "image.save(\"phrase.bmp\")"
   ]
  },
  {
   "cell_type": "code",
   "execution_count": 34,
   "metadata": {},
   "outputs": [
    {
     "data": {
      "image/jpeg": "[encoded data removed]",
      "image/png": "[encoded data removed]",
      "text/plain": [
       "<PIL.BmpImagePlugin.BmpImageFile image mode=L size=420x102>"
      ]
     },
     "execution_count": 34,
     "metadata": {},
     "output_type": "execute_result"
    }
   ],
   "source": [
    "image = Image.open(\"phrase.bmp\")\n",
    "image"
   ]
  },
  {
   "cell_type": "code",
   "execution_count": 35,
   "metadata": {},
   "outputs": [],
   "source": [
    "image_array = np.array(image)"
   ]
  },
  {
   "cell_type": "code",
   "execution_count": 36,
   "metadata": {},
   "outputs": [],
   "source": [
    "bd_image = 1 - image_array / 255"
   ]
  },
  {
   "cell_type": "code",
   "execution_count": 37,
   "metadata": {},
   "outputs": [],
   "source": [
    "horizontal_profile = bd_image.sum(axis=1)\n",
    "vertical_profile = bd_image.sum(axis=0)"
   ]
  },
  {
   "cell_type": "code",
   "execution_count": 38,
   "metadata": {},
   "outputs": [
    {
     "data": {
      "image/png": "[encoded data removed]",
      "text/plain": [
       "<Figure size 640x480 with 2 Axes>"
      ]
     },
     "metadata": {},
     "output_type": "display_data"
    }
   ],
   "source": [
    "graph, (horizontal, vertical) = plt.subplots(1, 2)\n",
    "\n",
    "vertical.bar(range(vertical_profile.size), vertical_profile)\n",
    "vertical.set_title(\"Vertical profile\")\n",
    "\n",
    "horizontal.barh(range(horizontal_profile.size), horizontal_profile)\n",
    "horizontal.invert_yaxis()\n",
    "horizontal.set_title(\"Horizontal profile\")\n",
    "\n",
    "plt.show()"
   ]
  },
  {
   "cell_type": "code",
   "execution_count": 39,
   "metadata": {},
   "outputs": [],
   "source": [
    "boxes = []\n",
    "\n",
    "l = 0\n",
    "\n",
    "while l < vertical_profile.size:\n",
    "    while l < vertical_profile.size and vertical_profile[l] == 0:\n",
    "        l += 1\n",
    "\n",
    "    r = l\n",
    "\n",
    "    while r < vertical_profile.size and vertical_profile[r] != 0:\n",
    "        r += 1\n",
    "    \n",
    "    if (l != r):\n",
    "        boxes.append((l - 1, r))\n",
    "\n",
    "    l = r\n",
    "\n",
    "filtered_boxes = []\n",
    "\n",
    "for box in boxes:\n",
    "    if len(filtered_boxes) == 0:\n",
    "        filtered_boxes.append(box)\n",
    "        continue\n",
    "\n",
    "    if (box[0] - filtered_boxes[-1][1] < 3):\n",
    "        filtered_boxes[-1] = (filtered_boxes[-1][0], box[1])\n",
    "    else:\n",
    "        filtered_boxes.append(box)"
   ]
  },
  {
   "cell_type": "code",
   "execution_count": 40,
   "metadata": {},
   "outputs": [
    {
     "data": {
      "text/plain": [
       "(91, 21)"
      ]
     },
     "execution_count": 40,
     "metadata": {},
     "output_type": "execute_result"
    }
   ],
   "source": [
    "top = 0\n",
    "bottom = 0\n",
    "\n",
    "for i in range(horizontal_profile.size):\n",
    "    if horizontal_profile[i] != 0:\n",
    "        bottom = i\n",
    "        break\n",
    "\n",
    "for i in range(horizontal_profile.size - 1, -1, -1):\n",
    "    if (horizontal_profile[i] != 0):\n",
    "        top = i\n",
    "        break\n",
    "\n",
    "top, bottom"
   ]
  },
  {
   "cell_type": "code",
   "execution_count": 41,
   "metadata": {},
   "outputs": [],
   "source": [
    "boxed_image = Image.open(\"phrase.bmp\")\n",
    "draw = ImageDraw.Draw(boxed_image)\n",
    "\n",
    "height\n",
    "\n",
    "for box in filtered_boxes:\n",
    "    x1, x2 = box\n",
    "    l_line = [(x1, bottom), (x1, top)]\n",
    "    r_line = [(x2, bottom), (x2, top)]\n",
    "    top_line = [(x1, top), (x2, top)]\n",
    "    bottom_line = [(x1, bottom), (x2, bottom)]\n",
    "\n",
    "\n",
    "    draw.line(l_line, fill=(0), width=1)\n",
    "    draw.line(r_line, fill=(0), width=1)\n",
    "    draw.line(bottom_line, fill=(0), width=1)\n",
    "    draw.line(top_line, fill=(0), width=1)\n",
    "\n",
    "boxed_image.show()"
   ]
  }
 ],
 "metadata": {
  "kernelspec": {
   "display_name": "Python 3",
   "language": "python",
   "name": "python3"
  },
  "language_info": {
   "codemirror_mode": {
    "name": "ipython",
    "version": 3
   },
   "file_extension": ".py",
   "mimetype": "text/x-python",
   "name": "python",
   "nbconvert_exporter": "python",
   "pygments_lexer": "ipython3",
   "version": "3.12.3"
  }
 },
 "nbformat": 4,
 "nbformat_minor": 2
}

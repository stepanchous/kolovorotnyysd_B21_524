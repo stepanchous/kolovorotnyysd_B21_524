{
 "cells": [
  {
   "cell_type": "code",
   "execution_count": 217,
   "metadata": {},
   "outputs": [],
   "source": [
    "import numpy as np\n",
    "import pandas as pd\n",
    "from PIL import Image, ImageFont, ImageDraw\n",
    "from functools import reduce"
   ]
  },
  {
   "cell_type": "code",
   "execution_count": 218,
   "metadata": {},
   "outputs": [],
   "source": [
    "def find_first_nonzero(ar):\n",
    "    return np.min(np.nonzero(ar))\n",
    "\n",
    "def find_last_nonzero(ar):\n",
    "    return np.max(np.nonzero(ar)) + 1\n",
    "\n",
    "def find_first_last_non_zero(ar):\n",
    "    return find_first_nonzero(ar), find_last_nonzero(ar)"
   ]
  },
  {
   "cell_type": "code",
   "execution_count": 219,
   "metadata": {},
   "outputs": [],
   "source": [
    "def convert_to_bd_image(image):\n",
    "    image = np.array(image)\n",
    "    return 1 - image / 255"
   ]
  },
  {
   "cell_type": "code",
   "execution_count": 220,
   "metadata": {},
   "outputs": [],
   "source": [
    "def calc_horizontal_profile(image):\n",
    "    return convert_to_bd_image(image).sum(axis=1)\n",
    "\n",
    "def calc_vertical_profile(image):\n",
    "    return convert_to_bd_image(image).sum(axis=0)\n",
    "\n",
    "def calc_profiles(image):\n",
    "    return calc_horizontal_profile(image), calc_vertical_profile(image)"
   ]
  },
  {
   "cell_type": "code",
   "execution_count": 221,
   "metadata": {},
   "outputs": [],
   "source": [
    "def generate_font_images(font_path, font_size):\n",
    "    letters = \"абвгдеёжзийклмнопрстуфхцчшщъыьэюя\"\n",
    "    font = ImageFont.truetype(font_path, font_size)\n",
    "\n",
    "    for letter in letters:\n",
    "        _, _, width, height = font.getbbox(letter)\n",
    "\n",
    "        image = Image.new(\"L\", (width, height), color=\"white\")\n",
    "        draw = ImageDraw.Draw(image)\n",
    "        draw.text((0, 0), letter, font=font, color=\"black\")\n",
    "\n",
    "        horizontal_profile, vertical_profile = calc_profiles(image)\n",
    "\n",
    "        upper, lower = find_first_last_non_zero(horizontal_profile)\n",
    "        left, right = find_first_last_non_zero(vertical_profile)\n",
    "\n",
    "        cropped_letter = image.crop((left, upper, right, lower))\n",
    "\n",
    "        cropped_letter.save(f\"font/{letter}.bmp\")"
   ]
  },
  {
   "cell_type": "code",
   "execution_count": 222,
   "metadata": {},
   "outputs": [],
   "source": [
    "def generate_phrase(phrase, font_path, font_size):\n",
    "    font = ImageFont.truetype(font_path, font_size)\n",
    "\n",
    "    width = reduce(\n",
    "    lambda acc, curr: acc + curr,\n",
    "    map(lambda symbol: font.getbbox(symbol)[2], phrase),\n",
    "    0)\n",
    "\n",
    "    height = max(map(lambda symbol: font.getbbox(symbol)[3], phrase))\n",
    "\n",
    "    width_padding = 60\n",
    "    height_padding = 20\n",
    "\n",
    "    image = Image.new(\"L\", (width + width_padding, height + height_padding), color=\"white\")\n",
    "    draw = ImageDraw.Draw(image)\n",
    "    draw.text((width_padding // 2, height_padding // 2), phrase, font=font, color=\"black\")\n",
    "    image.save(\"output/phrase.bmp\")"
   ]
  },
  {
   "cell_type": "code",
   "execution_count": 223,
   "metadata": {},
   "outputs": [],
   "source": [
    "def find_symbol_ranges(vertical_profile):\n",
    "    ranges = []\n",
    "\n",
    "    l = 0\n",
    "\n",
    "    while l < vertical_profile.size:\n",
    "        while l < vertical_profile.size and vertical_profile[l] == 0:\n",
    "            l += 1\n",
    "\n",
    "        r = l\n",
    "\n",
    "        while r < vertical_profile.size and vertical_profile[r] != 0:\n",
    "            r += 1\n",
    "\n",
    "        if (l != r):\n",
    "            ranges.append((l, r))\n",
    "\n",
    "        l = r\n",
    "\n",
    "    filtered_ranges = []\n",
    "\n",
    "    for symbol_range in ranges:\n",
    "        if len(filtered_ranges) == 0:\n",
    "            filtered_ranges.append(symbol_range)\n",
    "            continue\n",
    "\n",
    "        if (symbol_range[0] - filtered_ranges[-1][1] < 3):\n",
    "            filtered_ranges[-1] = (filtered_ranges[-1][0], symbol_range[1])\n",
    "        else:\n",
    "            filtered_ranges.append(symbol_range)\n",
    "    \n",
    "    return filtered_ranges"
   ]
  },
  {
   "cell_type": "code",
   "execution_count": 224,
   "metadata": {},
   "outputs": [],
   "source": [
    "def find_boxes_from_ranges(image, ranges):\n",
    "    boxes = []\n",
    "\n",
    "    _, height = image.size\n",
    "\n",
    "    for i, symbol_range in enumerate(ranges):\n",
    "        left, right = symbol_range\n",
    "        symbol = image.crop((left, 0, right, height))\n",
    "\n",
    "        horizontal_profile = calc_horizontal_profile(symbol)\n",
    "\n",
    "        width, _ = symbol.size\n",
    "\n",
    "        lower, upper = find_first_last_non_zero(horizontal_profile)\n",
    "        symbol = symbol.crop((0, lower, width, upper))\n",
    "\n",
    "        boxes.append((left, lower, right, upper))\n",
    "\n",
    "    return boxes\n"
   ]
  },
  {
   "cell_type": "code",
   "execution_count": 225,
   "metadata": {},
   "outputs": [],
   "source": [
    "def segment_text(image):\n",
    "    _, vertical_profile = calc_profiles(image)\n",
    "    \n",
    "    ranges = find_symbol_ranges(vertical_profile)\n",
    "    boxes = find_boxes_from_ranges(image, ranges)\n",
    "\n",
    "    return boxes"
   ]
  },
  {
   "cell_type": "code",
   "execution_count": 226,
   "metadata": {},
   "outputs": [],
   "source": [
    "def calc_black_weight(bd_image):\n",
    "    return np.sum(bd_image)\n",
    "\n",
    "def calc_rel_black_weight(bd_image):\n",
    "    return calc_black_weight(bd_image) / bd_image.size\n",
    "\n",
    "def calc_center_of_gravity(bd_image):\n",
    "    height, width = bd_image.shape\n",
    "\n",
    "    black_weight = calc_black_weight(bd_image)\n",
    "\n",
    "    center_x = (np.sum(bd_image, axis=1) @ np.array(range(height))) / black_weight\n",
    "    center_y = (np.sum(bd_image, axis=0) @ np.array(range(width))) / black_weight\n",
    "\n",
    "    return center_x, center_y\n",
    "\n",
    "def calc_rel_center_of_gravity(bd_image):\n",
    "    height, width = bd_image.shape\n",
    "\n",
    "    center_x, center_y = calc_center_of_gravity(bd_image)\n",
    "\n",
    "    return (center_x - 1) / (height - 1), (center_y - 1) / (width - 1)\n",
    "\n",
    "def calc_horizontal_inertia_moment(bd_image):\n",
    "    _, width = bd_image.shape\n",
    "    _, y_center = calc_center_of_gravity(bd_image)\n",
    "\n",
    "    return np.sum((np.array(range(width)) - y_center)**2 @ np.transpose(bd_image))\n",
    "\n",
    "def calc_vertical_inertia_moment(bd_image):\n",
    "    height, _ = bd_image.shape\n",
    "    x_center, _ = calc_center_of_gravity(bd_image)\n",
    "    return np.sum((np.array(range(height)) - x_center)**2 @ bd_image)\n",
    "\n",
    "def calc_rel_horizontal_inertia_moment(bd_image):\n",
    "    height, width = bd_image.shape\n",
    "\n",
    "    return calc_horizontal_inertia_moment(bd_image) / (height**2 * width**2)\n",
    "\n",
    "def calc_rel_vertical_inertia_moment(bd_image):\n",
    "    height, width = bd_image.shape\n",
    "\n",
    "    return calc_vertical_inertia_moment(bd_image) / (height**2 * width**2)"
   ]
  },
  {
   "cell_type": "code",
   "execution_count": 227,
   "metadata": {},
   "outputs": [],
   "source": [
    "def create_features_report(symbols):\n",
    "    report = {\n",
    "        \"Symbol\": [],\n",
    "        \"Black Mass\": [],\n",
    "        \"Center of Gravity, X\": [],\n",
    "        \"Center of Gravity, Y\": [],\n",
    "        \"Horizontal Moment of Inertia\": [],\n",
    "        \"Vertical Moment of Inertia\": [],\n",
    "\n",
    "    }\n",
    "\n",
    "    for symbol in symbols:\n",
    "        image = Image.open(f\"font/{symbol}.bmp\")\n",
    "        bd_image = convert_to_bd_image(image)\n",
    "\n",
    "        x_center, y_center = calc_rel_center_of_gravity(bd_image)\n",
    "\n",
    "        report[\"Symbol\"].append(symbol)\n",
    "        report[\"Black Mass\"].append(calc_rel_black_weight(bd_image))\n",
    "        report[\"Center of Gravity, X\"].append(x_center)\n",
    "        report[\"Center of Gravity, Y\"].append(y_center)\n",
    "        report[\"Horizontal Moment of Inertia\"].append(calc_rel_horizontal_inertia_moment(bd_image))\n",
    "        report[\"Vertical Moment of Inertia\"].append(calc_rel_vertical_inertia_moment(bd_image))\n",
    "    \n",
    "    df = pd.DataFrame(report)\n",
    "\n",
    "    return df"
   ]
  },
  {
   "cell_type": "code",
   "execution_count": 228,
   "metadata": {},
   "outputs": [],
   "source": [
    "def normalize(value, params):\n",
    "    col_min, col_max = params\n",
    "    return (value - col_min) / (col_max - col_min)\n",
    "\n",
    "def normalize_features(features):\n",
    "    normalized_features = features.copy()\n",
    "\n",
    "    feature_to_norm_params = dict()\n",
    "\n",
    "    for column in normalized_features:\n",
    "        if column == \"Symbol\":\n",
    "            continue\n",
    "\n",
    "        col_min = normalized_features[column].min()\n",
    "        col_max = normalized_features[column].max()\n",
    "\n",
    "        feature_to_norm_params[column] = col_min, col_max\n",
    "\n",
    "        normalized_features[column] = (normalized_features[column] - col_min) / (col_max - col_min)\n",
    "    \n",
    "    return normalized_features, feature_to_norm_params\n"
   ]
  },
  {
   "cell_type": "code",
   "execution_count": 229,
   "metadata": {},
   "outputs": [],
   "source": [
    "def predict_symbol(bd_symbol, feature_matrix, norm_params, symbols):\n",
    "    x_center, y_center = calc_rel_center_of_gravity(bd_symbol)\n",
    "\n",
    "    letter_features = np.array([\n",
    "        normalize(calc_rel_black_weight(bd_symbol), norm_params[\"Black Mass\"]),\n",
    "        normalize(x_center, norm_params[\"Center of Gravity, X\"]),\n",
    "        normalize(y_center, norm_params[\"Center of Gravity, Y\"]),\n",
    "        normalize(calc_rel_horizontal_inertia_moment(bd_symbol), norm_params[\"Horizontal Moment of Inertia\"]),\n",
    "        normalize(calc_rel_vertical_inertia_moment(bd_symbol), norm_params[\"Vertical Moment of Inertia\"]),\n",
    "    ])\n",
    "\n",
    "    distances = np.sqrt(np.sum((feature_matrix - letter_features)**2, axis=1))\n",
    "    probs = np.exp(-distances)\n",
    "\n",
    "    result = []\n",
    "\n",
    "    for i, symbol in enumerate(symbols):\n",
    "        result.append((symbol, probs[i]))\n",
    "\n",
    "    return sorted(result, key=lambda x: -x[1])"
   ]
  },
  {
   "cell_type": "code",
   "execution_count": 230,
   "metadata": {},
   "outputs": [],
   "source": [
    "symbols = \"абвгдеёжзийклмнопрстуфхцчшщъыьэюя\""
   ]
  },
  {
   "cell_type": "code",
   "execution_count": 231,
   "metadata": {},
   "outputs": [],
   "source": [
    "generate_font_images(\"font/CaskaydiaMonoNerdFont-Regular.ttf\", 69)\n",
    "generate_phrase(\"если жена мешает преферансу бросай жену\",\n",
    "                \"font/CaskaydiaMonoNerdFont-Regular.ttf\",\n",
    "                69)"
   ]
  },
  {
   "cell_type": "code",
   "execution_count": 232,
   "metadata": {},
   "outputs": [],
   "source": [
    "features = create_features_report(symbols)"
   ]
  },
  {
   "cell_type": "code",
   "execution_count": 233,
   "metadata": {},
   "outputs": [],
   "source": [
    "norm_features, norm_params = normalize_features(features)"
   ]
  },
  {
   "cell_type": "code",
   "execution_count": 234,
   "metadata": {},
   "outputs": [],
   "source": [
    "numeric_features = [\n",
    "    \"Black Mass\",\n",
    "    \"Center of Gravity, X\",\n",
    "    \"Center of Gravity, Y\",\n",
    "    \"Horizontal Moment of Inertia\",\n",
    "    \"Vertical Moment of Inertia\"]\n",
    "\n",
    "feature_matrix = norm_features[numeric_features].to_numpy()"
   ]
  },
  {
   "cell_type": "code",
   "execution_count": 235,
   "metadata": {},
   "outputs": [
    {
     "data": {
      "image/jpeg": "[encoded data removed]",
      "image/png": "[encoded data removed]",
      "text/plain": [
       "<PIL.Image.Image image mode=L size=132x44>"
      ]
     },
     "execution_count": 235,
     "metadata": {},
     "output_type": "execute_result"
    }
   ],
   "source": [
    "image = Image.open(\"output/phrase.bmp\").convert(\"L\")\n",
    "image"
   ]
  },
  {
   "cell_type": "code",
   "execution_count": 236,
   "metadata": {},
   "outputs": [],
   "source": [
    "boxes = segment_text(image)"
   ]
  },
  {
   "cell_type": "code",
   "execution_count": 237,
   "metadata": {},
   "outputs": [],
   "source": [
    "boxes = segment_text(image)\n",
    "bd_image = convert_to_bd_image(image)"
   ]
  },
  {
   "cell_type": "code",
   "execution_count": 238,
   "metadata": {},
   "outputs": [],
   "source": [
    "with open(\"output/probs.txt\", \"w\") as f:\n",
    "    for i, box in enumerate(boxes):\n",
    "        left, lower, right, upper = box\n",
    "        bd_symbol = bd_image[lower:upper, left:right]\n",
    "\n",
    "        print(f\"{i}: {predict_symbol(bd_symbol, feature_matrix, norm_params, symbols)}\", file=f)"
   ]
  }
 ],
 "metadata": {
  "kernelspec": {
   "display_name": "Python 3",
   "language": "python",
   "name": "python3"
  },
  "language_info": {
   "codemirror_mode": {
    "name": "ipython",
    "version": 3
   },
   "file_extension": ".py",
   "mimetype": "text/x-python",
   "name": "python",
   "nbconvert_exporter": "python",
   "pygments_lexer": "ipython3",
   "version": "3.12.3"
  }
 },
 "nbformat": 4,
 "nbformat_minor": 2
}
